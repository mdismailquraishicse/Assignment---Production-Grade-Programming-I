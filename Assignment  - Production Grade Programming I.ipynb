{
  "nbformat": 4,
  "nbformat_minor": 0,
  "metadata": {
    "kernelspec": {
      "display_name": "Python 3",
      "language": "python",
      "name": "python3"
    },
    "language_info": {
      "codemirror_mode": {
        "name": "ipython",
        "version": 3
      },
      "file_extension": ".py",
      "mimetype": "text/x-python",
      "name": "python",
      "nbconvert_exporter": "python",
      "pygments_lexer": "ipython3",
      "version": "3.7.4"
    },
    "colab": {
      "provenance": []
    }
  },
  "cells": [
    {
      "cell_type": "markdown",
      "metadata": {
        "id": "8WbUJEVzs8Bx"
      },
      "source": [
        "## <u>While doing this assignment only use those concepts which have been taught till now</u>"
      ]
    },
    {
      "cell_type": "markdown",
      "metadata": {
        "id": "77zLnpaNvNSp"
      },
      "source": [
        "# <u> Problem 1</u>\n",
        "\n",
        "### Create a class <code>Cylinder</code> which takes two attributes <code>radius</code> and <code>height</code>.\n",
        "\n",
        "### Create the following methods in this class:\n",
        "\n",
        "* ### method <code>volume()</code> which calculates the volume of the cyinder which is defined as $V  = \\pi r^2 h$\n",
        "\n",
        "* ### method <code>surface_area()</code> which calculates the area of the cyinder which is defined as $S  = 2\\pi r h$. Assume this is an open cylinder\n"
      ]
    },
    {
      "cell_type": "code",
      "metadata": {
        "id": "-cWkCZ5OzX0G"
      },
      "source": [
        "# Write your code below. Take pi as 3.14\n",
        "class Cylinder:\n",
        "  def __init__(self,radius,height):\n",
        "    self.radius = radius\n",
        "    self.height = height\n",
        "\n",
        "  def volume(self):\n",
        "    return 3.14*self.radius*self.radius*self.height\n",
        "\n",
        "  def surface_area(self):\n",
        "    return 2*3.14*self.radius*self.height\n"
      ],
      "execution_count": 1,
      "outputs": []
    },
    {
      "cell_type": "code",
      "metadata": {
        "id": "tgS3mhN-18b_",
        "colab": {
          "base_uri": "https://localhost:8080/",
          "height": 70
        },
        "outputId": "44f0c353-74d1-4be2-c13a-77ec4b08a917"
      },
      "source": [
        "# Check for sample inputs\n",
        "cylinder = Cylinder(radius = 5, height = 8)\n",
        "\n",
        "print(cylinder.radius)\n",
        "print(cylinder.height)\n",
        "f\"radius is {cylinder.radius} and height is  {cylinder.height}\"\n"
      ],
      "execution_count": 2,
      "outputs": [
        {
          "output_type": "stream",
          "name": "stdout",
          "text": [
            "5\n",
            "8\n"
          ]
        },
        {
          "output_type": "execute_result",
          "data": {
            "text/plain": [
              "'radius is 5 and height is  8'"
            ],
            "application/vnd.google.colaboratory.intrinsic+json": {
              "type": "string"
            }
          },
          "metadata": {},
          "execution_count": 2
        }
      ]
    },
    {
      "cell_type": "markdown",
      "metadata": {
        "id": "KjPWYK0Rs8By"
      },
      "source": [
        "## <u>Problem 2</u>\n",
        "\n",
        "### You started your own money wallet where your customers can create their accounts and they can either deposit or withdraw money from this wallet.\n",
        "\n",
        "### Write a Python class <code>BankAccount</code> which takes the balance as an attribute. You can initialize the balance with 0 because any new account will have 0 rupees in their wallet. Next write two methods for your class :\n",
        "\n",
        "* #### <code>withdraw()</code> method which takes the amount to be withdrawn as an argument and returns the balance after the withdrawal\n",
        "\n",
        "* #### <code>deposit()</code> method which takes the amount to be deposited as an argument and returns the balance after the deposit.\n",
        "\n",
        "### Keep in mind that if the balance to be withdrawn exceeds the current balance, it should display a message that \"Not enough balance in your account\"\n"
      ]
    },
    {
      "cell_type": "code",
      "metadata": {
        "id": "RxVZTrenzfHC"
      },
      "source": [
        "# Write your BankAccount class below \n",
        "\n",
        "class BankAccount:\n",
        "  def __init__(self, balance = 0):\n",
        "    self.balance = balance\n",
        "\n",
        "  def withdraw(self, amount):\n",
        "    if self.balance > amount:\n",
        "      self.balance = self.balance - amount\n",
        "      return self.balance\n",
        "    else:\n",
        "      return \"Not enough balance in your account\"\n",
        "\n",
        "  def deposite(self, amount):\n",
        "    self.balance += amount\n",
        "    return self.balance\n",
        "  \n"
      ],
      "execution_count": 3,
      "outputs": []
    },
    {
      "cell_type": "code",
      "metadata": {
        "id": "N1Yhpkiws8B3"
      },
      "source": [
        "# Create two instances of this class for two customers\n",
        "customer_one = BankAccount()\n",
        "customer_two = BankAccount()"
      ],
      "execution_count": 4,
      "outputs": []
    },
    {
      "cell_type": "markdown",
      "metadata": {
        "id": "mSTxPcO3fWeX"
      },
      "source": [
        "### Next add some amount and withdraw some another amount for both the customers."
      ]
    },
    {
      "cell_type": "code",
      "metadata": {
        "id": "KpMdlB5Fs8B8",
        "colab": {
          "base_uri": "https://localhost:8080/"
        },
        "outputId": "43bdb200-51e6-4ceb-e2ef-0c25800a6e63"
      },
      "source": [
        "# Deposit some amount and withdrawing some amount from the two accounts and check if your method works fine\n",
        "print(customer_one.deposite(50000))\n",
        "print(customer_one.deposite(2000))\n",
        "print(customer_one.withdraw(4000))\n",
        "\n",
        "\n",
        "print(customer_two.deposite(1000))\n",
        "print(customer_two.deposite(2000))\n",
        "print(customer_two.withdraw(4000))\n"
      ],
      "execution_count": 5,
      "outputs": [
        {
          "output_type": "stream",
          "name": "stdout",
          "text": [
            "50000\n",
            "52000\n",
            "48000\n",
            "1000\n",
            "3000\n",
            "Not enough balance in your account\n"
          ]
        }
      ]
    },
    {
      "cell_type": "markdown",
      "metadata": {
        "id": "5qd8g8UUs8CM"
      },
      "source": [
        "## <u>Problem 3 </u>\n",
        "\n",
        "### Create a class <code>Time </code> which takes two inputs hours and minutes to instantiate.\n",
        "*  #### Construct a method <code>DisplayTime()</code> which displays the time in AM/PM formats. For example if the input is 14 hours and 45 mins, then this method will print \"The time is 2:45 PM\". If the inputted hours exceeds 23 then print the message \"The input hours should be less than 24\" and if the inputted minutes exceeds 59 then print the message \"The input minutes should be less than 60.\" Also if the input is 12 hours 30 minutes, then the displayed time would be 12:30 PM\n",
        "* #### Construct a method <code>DisplayRatio()</code> which should display the ratio of minutes to hours. For example, (8 hours and  16 mins) should display 2. Use <code>try</code>, <code>except</code> block to account for ZeroDivisionError."
      ]
    },
    {
      "cell_type": "code",
      "metadata": {
        "id": "FBJy9Sq_s8CN"
      },
      "source": [
        "class Time:\n",
        "  def __init__(self,hours, minutes):\n",
        "    self.hours = hours\n",
        "    self.minutes = minutes\n",
        "\n",
        "  def DisplayTime(self):\n",
        "\n",
        "    # checking if hours is greater than 23 or not\n",
        "    if self.hours > 23:\n",
        "      print(\"The input hours should be less than 24\" )\n",
        "      return\n",
        "   \n",
        "    # checking if minutes are greater than 59 or not\n",
        "    if self.minutes > 59:\n",
        "      print(\"The input minutes should be less than 60\")\n",
        "      return\n",
        "\n",
        "    if self.hours >= 12:\n",
        "      if self.hours == 12:\n",
        "        self.formatted_time = str(self.hours)+\":\"+str(self.minutes)+\" PM\"\n",
        "        print(self.formatted_time)\n",
        "      else:\n",
        "        self.formatted_time = str(self.hours - 12)+\":\"+str(self.minutes)+\" PM\"\n",
        "        print(self.formatted_time)\n",
        "    \n",
        "    elif self.hours < 12:\n",
        "      self.formatted_time = str(self.hours)+\":\"+str(self.minutes)+\" AM\"\n",
        "      print(self.formatted_time)\n",
        "    \n",
        "\n",
        "  def DisplayRatio(self):\n",
        "    try:\n",
        "      self.ratio = int(self.minutes/self.hours)\n",
        "      print(self.ratio)\n",
        "    except Exception as e:\n",
        "      print(e)"
      ],
      "execution_count": 6,
      "outputs": []
    },
    {
      "cell_type": "code",
      "metadata": {
        "id": "zywXa51d6Eev",
        "colab": {
          "base_uri": "https://localhost:8080/"
        },
        "outputId": "9f9f236e-e636-4f80-e4c7-60b711e49e39"
      },
      "source": [
        "\n",
        "# Check for few sample inputs of hours and mins\n",
        "hour_min_list = [(23,45), (34,50), (12,34), (14,67),(19,20), (2,15), (0, 10)]\n",
        "\n",
        "# Using a for loop display the corresponding 12 hour time format for the above hour_min_list\n",
        "\n",
        "for h,m in hour_min_list:\n",
        "  # for c in hm:\n",
        "  myTime = Time(hours = h, minutes = m)\n",
        "  myTime.DisplayTime()\n",
        "\n",
        "\n",
        "\n",
        "\n",
        "\n",
        "\n",
        "# Also display the corresponding ratios for the above list\n",
        "  myTime.DisplayRatio()"
      ],
      "execution_count": 7,
      "outputs": [
        {
          "output_type": "stream",
          "name": "stdout",
          "text": [
            "11:45 PM\n",
            "1\n",
            "The input hours should be less than 24\n",
            "1\n",
            "12:34 PM\n",
            "2\n",
            "The input minutes should be less than 60\n",
            "4\n",
            "7:20 PM\n",
            "1\n",
            "2:15 AM\n",
            "7\n",
            "0:10 AM\n",
            "division by zero\n"
          ]
        }
      ]
    },
    {
      "cell_type": "code",
      "source": [],
      "metadata": {
        "id": "i-IXRNsWMb4F"
      },
      "execution_count": 7,
      "outputs": []
    }
  ]
}